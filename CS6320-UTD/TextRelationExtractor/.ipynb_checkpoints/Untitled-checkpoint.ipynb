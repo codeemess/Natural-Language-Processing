{
 "cells": [
  {
   "cell_type": "code",
   "execution_count": 10,
   "metadata": {},
   "outputs": [],
   "source": [
    "import numpy as np\n",
    "import pandas as pd\n",
    "from nltk.tokenize.stanford import StanfordTokenizer\n",
    "import nltk"
   ]
  },
  {
   "cell_type": "code",
   "execution_count": 20,
   "metadata": {},
   "outputs": [],
   "source": [
    "trainPath = \"./semeval_train.txt\"\n",
    "testPath = \"./semeval_test.txt\"\n",
    "outputTrain = \"./trainSemeval.txt\"\n",
    "outputTest = \"./testSemeval.txt\""
   ]
  },
  {
   "cell_type": "code",
   "execution_count": 21,
   "metadata": {},
   "outputs": [],
   "source": []
  },
  {
   "cell_type": "code",
   "execution_count": 23,
   "metadata": {},
   "outputs": [],
   "source": [
    "def createFile(inputFilePath,outputFilePath):\n",
    "    f = open(inputFilePath, \"r\")\n",
    "    fOut = open(outputFilePath, 'w')\n",
    "    lines = f.readlines()\n",
    "    for idx in range(0,len(lines),4):\n",
    "        sentence_number = lines[idx].split(\"\\t\")[0]\n",
    "        sentence = lines[idx].split(\"\\t\")[1][1:-1]\n",
    "        label = lines[idx+1]\n",
    "        sentence = sentence.replace(\"<e1>\", \" E1_START \").replace(\"</e1>\", \" E1_END \")\n",
    "        sentence = sentence.replace(\"<e2>\", \" E2_START \").replace(\"</e2>\", \" E2_END \")\n",
    "    #     print(sentence_number, sentence)\n",
    "        tokens = nltk.word_tokenize(sentence)\n",
    "        tokens = clean_tokens(sentence_number, tokens)\n",
    "        fOut.write(\" \".join([ label, \" \".join(tokens) ]))\n",
    "        fOut.write(\"\\n\")\n",
    "    fOut.close()\n",
    "    print(outputFilePath,\" Has been created\")"
   ]
  },
  {
   "cell_type": "code",
   "execution_count": null,
   "metadata": {},
   "outputs": [],
   "source": [
    "createFile()"
   ]
  }
 ],
 "metadata": {
  "kernelspec": {
   "display_name": "Python 3",
   "language": "python",
   "name": "python3"
  },
  "language_info": {
   "codemirror_mode": {
    "name": "ipython",
    "version": 3
   },
   "file_extension": ".py",
   "mimetype": "text/x-python",
   "name": "python",
   "nbconvert_exporter": "python",
   "pygments_lexer": "ipython3",
   "version": "3.7.6"
  }
 },
 "nbformat": 4,
 "nbformat_minor": 4
}
