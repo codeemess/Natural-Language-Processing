{
 "cells": [
  {
   "cell_type": "code",
   "execution_count": 29,
   "metadata": {},
   "outputs": [],
   "source": [
    "import numpy as np\n",
    "import pandas as pd\n",
    "from nltk.tokenize.stanford import StanfordTokenizer\n",
    "import nltk"
   ]
  },
  {
   "cell_type": "code",
   "execution_count": 30,
   "metadata": {},
   "outputs": [],
   "source": [
    "trainPath = \"./semeval_train.txt\"\n",
    "testPath = \"./semeval_test.txt\"\n",
    "outputTrain = \"./trainSemeval.txt\"\n",
    "outputTest = \"./testSemeval.txt\""
   ]
  },
  {
   "cell_type": "code",
   "execution_count": 21,
   "metadata": {},
   "outputs": [],
   "source": []
  },
  {
   "cell_type": "code",
   "execution_count": 38,
   "metadata": {},
   "outputs": [],
   "source": [
    "def createFile(inputFilePath,outputFilePath):\n",
    "    data = []\n",
    "    f = open(inputFilePath, \"r\")\n",
    "    fOut = open(outputFilePath, 'w')\n",
    "    lines = f.readlines()\n",
    "    for idx in range(0,len(lines),4):\n",
    "        sentence_number = lines[idx].split(\"\\t\")[0]\n",
    "        sentence = lines[idx].split(\"\\t\")[1][1:-1]\n",
    "        label = lines[idx+1]\n",
    "        sentence = sentence.replace(\"<e1>\", \" E1_START \").replace(\"</e1>\", \" E1_END \")\n",
    "        sentence = sentence.replace(\"<e2>\", \" E2_START \").replace(\"</e2>\", \" E2_END \")\n",
    "        tokens = nltk.word_tokenize(sentence)\n",
    "        fOut.write(\" \".join([ label, \" \".join(tokens) ]))\n",
    "        fOut.write(\"\\n\")\n",
    "        e1 = tokens.index(\"E1_END\") - 1\n",
    "        e2 = tokens.index(\"E2_END\") - 1\n",
    "        sentence = \" \".join(tokens)\n",
    "        data.append([sentence_number, sentence, e1, e2, label])\n",
    "        \n",
    "    fOut.close()\n",
    "    print(outputFilePath,\" Has been created\")\n",
    "    return data"
   ]
  },
  {
   "cell_type": "code",
   "execution_count": 40,
   "metadata": {
    "scrolled": true
   },
   "outputs": [
    {
     "name": "stdout",
     "output_type": "stream",
     "text": [
      "./trainSemeval.txt  Has been created\n",
      "./testSemeval.txt  Has been created\n"
     ]
    }
   ],
   "source": [
    "train = createFile(trainPath,outputTrain)\n",
    "test = createFile(testPath,outputTest)\n"
   ]
  },
  {
   "cell_type": "code",
   "execution_count": 42,
   "metadata": {},
   "outputs": [
    {
     "data": {
      "text/html": [
       "<div>\n",
       "<style scoped>\n",
       "    .dataframe tbody tr th:only-of-type {\n",
       "        vertical-align: middle;\n",
       "    }\n",
       "\n",
       "    .dataframe tbody tr th {\n",
       "        vertical-align: top;\n",
       "    }\n",
       "\n",
       "    .dataframe thead th {\n",
       "        text-align: right;\n",
       "    }\n",
       "</style>\n",
       "<table border=\"1\" class=\"dataframe\">\n",
       "  <thead>\n",
       "    <tr style=\"text-align: right;\">\n",
       "      <th></th>\n",
       "      <th>id</th>\n",
       "      <th>sentence</th>\n",
       "      <th>e1</th>\n",
       "      <th>e2</th>\n",
       "      <th>relation</th>\n",
       "    </tr>\n",
       "  </thead>\n",
       "  <tbody>\n",
       "    <tr>\n",
       "      <th>0</th>\n",
       "      <td>1</td>\n",
       "      <td>The system as described above has its greatest...</td>\n",
       "      <td>13</td>\n",
       "      <td>18</td>\n",
       "      <td>Component-Whole(e2,e1)\\n</td>\n",
       "    </tr>\n",
       "    <tr>\n",
       "      <th>1</th>\n",
       "      <td>2</td>\n",
       "      <td>The E1_START child E1_END was carefully wrappe...</td>\n",
       "      <td>2</td>\n",
       "      <td>12</td>\n",
       "      <td>Other\\n</td>\n",
       "    </tr>\n",
       "    <tr>\n",
       "      <th>2</th>\n",
       "      <td>3</td>\n",
       "      <td>The E1_START author E1_END of a keygen uses a ...</td>\n",
       "      <td>2</td>\n",
       "      <td>10</td>\n",
       "      <td>Instrument-Agency(e2,e1)\\n</td>\n",
       "    </tr>\n",
       "    <tr>\n",
       "      <th>3</th>\n",
       "      <td>4</td>\n",
       "      <td>A misty E1_START ridge E1_END uprises from the...</td>\n",
       "      <td>3</td>\n",
       "      <td>9</td>\n",
       "      <td>Other\\n</td>\n",
       "    </tr>\n",
       "    <tr>\n",
       "      <th>4</th>\n",
       "      <td>5</td>\n",
       "      <td>The E1_START student E1_END E2_START associati...</td>\n",
       "      <td>2</td>\n",
       "      <td>5</td>\n",
       "      <td>Member-Collection(e1,e2)\\n</td>\n",
       "    </tr>\n",
       "  </tbody>\n",
       "</table>\n",
       "</div>"
      ],
      "text/plain": [
       "  id                                           sentence  e1  e2  \\\n",
       "0  1  The system as described above has its greatest...  13  18   \n",
       "1  2  The E1_START child E1_END was carefully wrappe...   2  12   \n",
       "2  3  The E1_START author E1_END of a keygen uses a ...   2  10   \n",
       "3  4  A misty E1_START ridge E1_END uprises from the...   3   9   \n",
       "4  5  The E1_START student E1_END E2_START associati...   2   5   \n",
       "\n",
       "                     relation  \n",
       "0    Component-Whole(e2,e1)\\n  \n",
       "1                     Other\\n  \n",
       "2  Instrument-Agency(e2,e1)\\n  \n",
       "3                     Other\\n  \n",
       "4  Member-Collection(e1,e2)\\n  "
      ]
     },
     "execution_count": 42,
     "metadata": {},
     "output_type": "execute_result"
    }
   ],
   "source": [
    "dfTrain = pd.DataFrame(data=train, columns=[\"i\", \"sentence\", \"e1\", \"e2\", \"relation\"])\n",
    "dfTrain.head()"
   ]
  }
 ],
 "metadata": {
  "kernelspec": {
   "display_name": "Python 3",
   "language": "python",
   "name": "python3"
  },
  "language_info": {
   "codemirror_mode": {
    "name": "ipython",
    "version": 3
   },
   "file_extension": ".py",
   "mimetype": "text/x-python",
   "name": "python",
   "nbconvert_exporter": "python",
   "pygments_lexer": "ipython3",
   "version": "3.7.6"
  }
 },
 "nbformat": 4,
 "nbformat_minor": 4
}
